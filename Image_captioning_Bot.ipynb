{
  "nbformat": 4,
  "nbformat_minor": 0,
  "metadata": {
    "colab": {
      "name": "Image captioning Bot.ipynb",
      "provenance": [],
      "collapsed_sections": []
    },
    "kernelspec": {
      "name": "python3",
      "display_name": "Python 3"
    },
    "language_info": {
      "name": "python"
    },
    "accelerator": "GPU",
    "widgets": {
      "application/vnd.jupyter.widget-state+json": {
        "7adf08ba3f384452910ec0cb932bc6ad": {
          "model_module": "@jupyter-widgets/controls",
          "model_name": "HBoxModel",
          "state": {
            "_view_name": "HBoxView",
            "_dom_classes": [],
            "_model_name": "HBoxModel",
            "_view_module": "@jupyter-widgets/controls",
            "_model_module_version": "1.5.0",
            "_view_count": null,
            "_view_module_version": "1.5.0",
            "box_style": "",
            "layout": "IPY_MODEL_8e36ef3722b94224857ed2910e2b7a8c",
            "_model_module": "@jupyter-widgets/controls",
            "children": [
              "IPY_MODEL_4316f9855855460994a79bf72def5351",
              "IPY_MODEL_750463ddb0774ba7af836e61b361356e"
            ]
          }
        },
        "8e36ef3722b94224857ed2910e2b7a8c": {
          "model_module": "@jupyter-widgets/base",
          "model_name": "LayoutModel",
          "state": {
            "_view_name": "LayoutView",
            "grid_template_rows": null,
            "right": null,
            "justify_content": null,
            "_view_module": "@jupyter-widgets/base",
            "overflow": null,
            "_model_module_version": "1.2.0",
            "_view_count": null,
            "flex_flow": null,
            "width": null,
            "min_width": null,
            "border": null,
            "align_items": null,
            "bottom": null,
            "_model_module": "@jupyter-widgets/base",
            "top": null,
            "grid_column": null,
            "overflow_y": null,
            "overflow_x": null,
            "grid_auto_flow": null,
            "grid_area": null,
            "grid_template_columns": null,
            "flex": null,
            "_model_name": "LayoutModel",
            "justify_items": null,
            "grid_row": null,
            "max_height": null,
            "align_content": null,
            "visibility": null,
            "align_self": null,
            "height": null,
            "min_height": null,
            "padding": null,
            "grid_auto_rows": null,
            "grid_gap": null,
            "max_width": null,
            "order": null,
            "_view_module_version": "1.2.0",
            "grid_template_areas": null,
            "object_position": null,
            "object_fit": null,
            "grid_auto_columns": null,
            "margin": null,
            "display": null,
            "left": null
          }
        },
        "4316f9855855460994a79bf72def5351": {
          "model_module": "@jupyter-widgets/controls",
          "model_name": "FloatProgressModel",
          "state": {
            "_view_name": "ProgressView",
            "style": "IPY_MODEL_0fee0a6448fc40d6b0b4d8d2901155fd",
            "_dom_classes": [],
            "description": "100%",
            "_model_name": "FloatProgressModel",
            "bar_style": "success",
            "max": 108857766,
            "_view_module": "@jupyter-widgets/controls",
            "_model_module_version": "1.5.0",
            "value": 108857766,
            "_view_count": null,
            "_view_module_version": "1.5.0",
            "orientation": "horizontal",
            "min": 0,
            "description_tooltip": null,
            "_model_module": "@jupyter-widgets/controls",
            "layout": "IPY_MODEL_9f1deb7d59604f4ea2b1843e708f8b62"
          }
        },
        "750463ddb0774ba7af836e61b361356e": {
          "model_module": "@jupyter-widgets/controls",
          "model_name": "HTMLModel",
          "state": {
            "_view_name": "HTMLView",
            "style": "IPY_MODEL_71e5b897d11f430d9902ed4ee1b26988",
            "_dom_classes": [],
            "description": "",
            "_model_name": "HTMLModel",
            "placeholder": "​",
            "_view_module": "@jupyter-widgets/controls",
            "_model_module_version": "1.5.0",
            "value": " 104M/104M [31:07&lt;00:00, 58.3kB/s]",
            "_view_count": null,
            "_view_module_version": "1.5.0",
            "description_tooltip": null,
            "_model_module": "@jupyter-widgets/controls",
            "layout": "IPY_MODEL_09773f5a546a4379a8eacb6d88b071d9"
          }
        },
        "0fee0a6448fc40d6b0b4d8d2901155fd": {
          "model_module": "@jupyter-widgets/controls",
          "model_name": "ProgressStyleModel",
          "state": {
            "_view_name": "StyleView",
            "_model_name": "ProgressStyleModel",
            "description_width": "initial",
            "_view_module": "@jupyter-widgets/base",
            "_model_module_version": "1.5.0",
            "_view_count": null,
            "_view_module_version": "1.2.0",
            "bar_color": null,
            "_model_module": "@jupyter-widgets/controls"
          }
        },
        "9f1deb7d59604f4ea2b1843e708f8b62": {
          "model_module": "@jupyter-widgets/base",
          "model_name": "LayoutModel",
          "state": {
            "_view_name": "LayoutView",
            "grid_template_rows": null,
            "right": null,
            "justify_content": null,
            "_view_module": "@jupyter-widgets/base",
            "overflow": null,
            "_model_module_version": "1.2.0",
            "_view_count": null,
            "flex_flow": null,
            "width": null,
            "min_width": null,
            "border": null,
            "align_items": null,
            "bottom": null,
            "_model_module": "@jupyter-widgets/base",
            "top": null,
            "grid_column": null,
            "overflow_y": null,
            "overflow_x": null,
            "grid_auto_flow": null,
            "grid_area": null,
            "grid_template_columns": null,
            "flex": null,
            "_model_name": "LayoutModel",
            "justify_items": null,
            "grid_row": null,
            "max_height": null,
            "align_content": null,
            "visibility": null,
            "align_self": null,
            "height": null,
            "min_height": null,
            "padding": null,
            "grid_auto_rows": null,
            "grid_gap": null,
            "max_width": null,
            "order": null,
            "_view_module_version": "1.2.0",
            "grid_template_areas": null,
            "object_position": null,
            "object_fit": null,
            "grid_auto_columns": null,
            "margin": null,
            "display": null,
            "left": null
          }
        },
        "71e5b897d11f430d9902ed4ee1b26988": {
          "model_module": "@jupyter-widgets/controls",
          "model_name": "DescriptionStyleModel",
          "state": {
            "_view_name": "StyleView",
            "_model_name": "DescriptionStyleModel",
            "description_width": "",
            "_view_module": "@jupyter-widgets/base",
            "_model_module_version": "1.5.0",
            "_view_count": null,
            "_view_module_version": "1.2.0",
            "_model_module": "@jupyter-widgets/controls"
          }
        },
        "09773f5a546a4379a8eacb6d88b071d9": {
          "model_module": "@jupyter-widgets/base",
          "model_name": "LayoutModel",
          "state": {
            "_view_name": "LayoutView",
            "grid_template_rows": null,
            "right": null,
            "justify_content": null,
            "_view_module": "@jupyter-widgets/base",
            "overflow": null,
            "_model_module_version": "1.2.0",
            "_view_count": null,
            "flex_flow": null,
            "width": null,
            "min_width": null,
            "border": null,
            "align_items": null,
            "bottom": null,
            "_model_module": "@jupyter-widgets/base",
            "top": null,
            "grid_column": null,
            "overflow_y": null,
            "overflow_x": null,
            "grid_auto_flow": null,
            "grid_area": null,
            "grid_template_columns": null,
            "flex": null,
            "_model_name": "LayoutModel",
            "justify_items": null,
            "grid_row": null,
            "max_height": null,
            "align_content": null,
            "visibility": null,
            "align_self": null,
            "height": null,
            "min_height": null,
            "padding": null,
            "grid_auto_rows": null,
            "grid_gap": null,
            "max_width": null,
            "order": null,
            "_view_module_version": "1.2.0",
            "grid_template_areas": null,
            "object_position": null,
            "object_fit": null,
            "grid_auto_columns": null,
            "margin": null,
            "display": null,
            "left": null
          }
        }
      }
    }
  },
  "cells": [
    {
      "cell_type": "code",
      "metadata": {
        "id": "OYvSSpiinAq7"
      },
      "source": [
        "import os\n",
        "import pickle\n",
        "from collections import Counter\n",
        "import torch, torch.nn as nn\n",
        "import torch.nn.functional as F\n",
        "\n",
        "from torch.nn.utils.rnn import pack_padded_sequence\n",
        "import time\n",
        "import nltk"
      ],
      "execution_count": 1,
      "outputs": []
    },
    {
      "cell_type": "code",
      "metadata": {
        "id": "8oL4lwoaoa_x"
      },
      "source": [
        "DATA_PATH = ''\n",
        "%matplotlib inline\n",
        "\n",
        "import sys\n",
        "sys.path.append('/content/gdrive/My Drive/Colab Notebooks')\n",
        "from google.colab import drive\n",
        "drive.mount('/content/gdrive')\n",
        "\n",
        "DATA_PATH = 'gdrive/My Drive/Colab Notebooks/'"
      ],
      "execution_count": null,
      "outputs": []
    },
    {
      "cell_type": "code",
      "metadata": {
        "colab": {
          "base_uri": "https://localhost:8080/"
        },
        "id": "ScsfnzaIobCY",
        "outputId": "bc7e1ff6-a2a8-45aa-fb4d-49efe5bdbc5a"
      },
      "source": [
        "%%bash\n",
        "mkdir '/content/data'\n",
        "tar -xvf '/content/gdrive/My Drive/Colab Notebooks/handout.tar.gz' -C '/content/'"
      ],
      "execution_count": null,
      "outputs": [
        {
          "output_type": "stream",
          "text": [
            "data/\n",
            "data/captions_tokenized.json\n",
            "data/image_codes.npy\n"
          ],
          "name": "stdout"
        },
        {
          "output_type": "stream",
          "text": [
            "mkdir: cannot create directory ‘/content/data’: File exists\n"
          ],
          "name": "stderr"
        }
      ]
    },
    {
      "cell_type": "code",
      "metadata": {
        "id": "pvjOUZvLobHl"
      },
      "source": [
        "import numpy as np\n",
        "import json\n",
        "\n",
        "# загружаем датасет\n",
        "img_codes = np.load(\"data/image_codes.npy\")\n",
        "captions = json.load(open('data/captions_tokenized.json'))"
      ],
      "execution_count": null,
      "outputs": []
    },
    {
      "cell_type": "code",
      "metadata": {
        "colab": {
          "base_uri": "https://localhost:8080/"
        },
        "id": "bVkyXHEvobKK",
        "outputId": "4e7627a9-5b82-470b-c695-563de107f1f4"
      },
      "source": [
        "# посмотрим на датасет\n",
        "\n",
        "print(\"Each image code is a 2048-unit vector [ shape: %s ]\" % str(img_codes.shape))\n",
        "print(img_codes[0,:10], end='\\n\\n')\n",
        "print(\"For each image there are 5 reference captions, e.g.:\\n\")\n",
        "print('\\n'.join(captions[0]))"
      ],
      "execution_count": null,
      "outputs": [
        {
          "output_type": "stream",
          "text": [
            "Each image code is a 2048-unit vector [ shape: (118287, 2048) ]\n",
            "[0.3659946  0.2016555  0.9245725  0.57063824 0.547268   0.8275868\n",
            " 0.3687277  0.12085301 0.0561931  0.49758485]\n",
            "\n",
            "For each image there are 5 reference captions, e.g.:\n",
            "\n",
            "people shopping in an open market for vegetables .\n",
            "an open market full of people and piles of vegetables .\n",
            "people are shopping at an open air produce market .\n",
            "large piles of carrots and potatoes at a crowded outdoor market .\n",
            "people shop for vegetables like carrots and potatoes at an open air market .\n"
          ],
          "name": "stdout"
        }
      ]
    },
    {
      "cell_type": "code",
      "metadata": {
        "colab": {
          "base_uri": "https://localhost:8080/"
        },
        "id": "WqFn-d_BobMt",
        "outputId": "021e41c0-137e-4d63-ca47-4952e3cdde56"
      },
      "source": [
        "class Vocabulary(object):\n",
        "  def __init__(self,\n",
        "               vocab_threshold,\n",
        "               vocab_file = '/content/data/vocab.pkl',\n",
        "               start_word='<bos>',\n",
        "               end_word='<eos>',\n",
        "               pad_word='<pad>',\n",
        "               unk_word='<unk>',\n",
        "               path_tokenized_file = '/content/data/captions_tokenized.json',\n",
        "               vocab_from_file = False):\n",
        "      ''' Инициализация парамметров словаря.\n",
        "          Параметры:\n",
        "          vocab_threshold: Минимальное количество слов для добавления в словарь\n",
        "                           слова.\n",
        "          vocab_file: Файл со словарем.\n",
        "          start_word: Специальный символ для указания начала в предложении.\n",
        "          end_word: Специальный символ для указания конца в предложении.\n",
        "          pad_word: Специальный символ для указания пропуска в предложении.\n",
        "          unk_word: Специальный символ для указания неизвестного слова \n",
        "                    в предложении.\n",
        "          capt_tokenized_file: Путь до токенизированных данных.\n",
        "          vocab_from_file: Если False, то создает словарь и записывает его \n",
        "                           в vocab_file. Если True, то подгружает его из \n",
        "                           vocab_file если он существует.\n",
        "      '''\n",
        "      self.vocab_threshold = vocab_threshold\n",
        "      self.vocab_file = vocab_file\n",
        "      self.start_word = start_word\n",
        "      self.end_word = end_word\n",
        "      self.pad_word = pad_word\n",
        "      self.unk_word = unk_word\n",
        "      self.path_tokenized_file = path_tokenized_file\n",
        "      self.vocab_from_file = vocab_from_file\n",
        "      self.get_vocab()\n",
        "    \n",
        "  def get_vocab(self):\n",
        "      '''Загружает файл словаря или создает его и сохраняет'''\n",
        "      if os.path.exists(self.vocab_file) & self.vocab_from_file:\n",
        "          with open(self.vocab_file, \"rb\") as f:\n",
        "              vocab = pickle.load(f)\n",
        "              self.word2idx = vocab.word2idx\n",
        "              self.idx2word = vocab.idx2word\n",
        "              print(\"Vocabulary successfully loaded from vocab.pkl file!\")\n",
        "      else:\n",
        "          self.build_vocab()\n",
        "          with open(self.vocab_file, \"wb\") as f:\n",
        "              pickle.dump(self, f)\n",
        "\n",
        "  def build_vocab(self):\n",
        "      '''Создание словаря и наполнение его словами'''\n",
        "      self.init_vocab()\n",
        "      self.add_word(self.unk_word)\n",
        "      self.add_word(self.start_word)\n",
        "      self.add_word(self.end_word)\n",
        "      self.add_word(self.pad_word)\n",
        "      self.add_captions()\n",
        "\n",
        "  def init_vocab(self):\n",
        "      '''Инициализация словаря'''\n",
        "      self.word2idx = {}\n",
        "      self.idx2word = {}\n",
        "      self.idx = 0\n",
        "\n",
        "  def add_word(self, word):\n",
        "      '''Добавление токена и количества в словарь'''\n",
        "      if not word in self.word2idx:\n",
        "          self.word2idx[word] = self.idx\n",
        "          self.idx2word[self.idx] = word\n",
        "          self.idx += 1\n",
        "\n",
        "  def add_captions(self):\n",
        "      '''Цикл для добавления слов из всего текста в словарь с ограничением по \n",
        "         количеству слов'''\n",
        "      captions = json.load(open(self.path_tokenized_file))\n",
        "      counter = Counter()\n",
        "      \n",
        "      for img_i in range(len(captions)):\n",
        "          for caption_i in range(len(captions[img_i])):\n",
        "              sentence = captions[img_i][caption_i]\n",
        "              counter.update(sentence.split(' '))\n",
        "\n",
        "          if img_i % 50000 == 0:\n",
        "              print(\"[%d/%d] Building vocab...\" % (img_i, len(captions)))\n",
        "\n",
        "      print('[%d/%d] Finish!' % (len(captions), len(captions)))\n",
        "      \n",
        "      words = [word for word, count in counter.items()\n",
        "               if count >= self.vocab_threshold]\n",
        "\n",
        "      for i, word in enumerate(words):\n",
        "          self.add_word(word)\n",
        "\n",
        "  def get_idx(self, word):\n",
        "      if not word in self.word2idx:\n",
        "          return self.word2idx[self.unk_word]\n",
        "      return self.word2idx[word]\n",
        "\n",
        "  def get_word(self, idx):\n",
        "      if not idx in self.idx2word:\n",
        "          return self.unk_word\n",
        "      return self.idx2word[idx]\n",
        "\n",
        "  def __len__(self):\n",
        "      return len(self.word2idx)\n",
        "\n",
        "vocab = Vocabulary(vocab_threshold = 5)"
      ],
      "execution_count": null,
      "outputs": [
        {
          "output_type": "stream",
          "text": [
            "[0/118287] Building vocab...\n",
            "[50000/118287] Building vocab...\n",
            "[100000/118287] Building vocab...\n",
            "[118287/118287] Finish!\n"
          ],
          "name": "stdout"
        }
      ]
    },
    {
      "cell_type": "code",
      "metadata": {
        "colab": {
          "base_uri": "https://localhost:8080/"
        },
        "id": "DXJ__v1RRkXj",
        "outputId": "9882b42d-2e05-436c-b4b1-3f7550505a7b"
      },
      "source": [
        "sample_caption = 'large piles of carrots and potatoes at a crowded outdoor market .'\n",
        "sample_result = []\n",
        "\n",
        "sample_result.append(imp.get_idx('<bos>'))\n",
        "sample_result.extend([imp.get_idx(token) for token in sample_caption.split(' ')])\n",
        "sample_result.append(imp.get_idx('<eos>'))\n",
        "\n",
        "print(sample_caption)\n",
        "print(sample_result)"
      ],
      "execution_count": null,
      "outputs": [
        {
          "output_type": "stream",
          "text": [
            "large piles of carrots and potatoes at a crowded outdoor market .\n",
            "[1, 21, 16, 14, 22, 15, 23, 18, 24, 25, 26, 9, 12, 2]\n"
          ],
          "name": "stdout"
        }
      ]
    },
    {
      "cell_type": "code",
      "metadata": {
        "colab": {
          "base_uri": "https://localhost:8080/"
        },
        "id": "pS3pfHa5oklJ",
        "outputId": "1d9a0a67-f8d1-4eac-80a8-3fbb0a84f7b5"
      },
      "source": [
        "sample_caption = 'large piles of carrots and potatoes at a crowded outdoor market .'\n",
        "sample_result = []\n",
        "\n",
        "sample_result.append(vocab.get_idx('<bos>'))\n",
        "sample_result.extend([vocab.get_idx(token) for token in sample_caption.split(' ')])\n",
        "sample_result.append(vocab.get_idx('<eos>'))\n",
        "\n",
        "print(sample_caption)\n",
        "print(sample_result)\n",
        "\n",
        "sample_caption = 'people shop for vegetables like carrots and potatoes at an open air market .'\n",
        "sample_result = []\n",
        "\n",
        "sample_result.append(vocab.get_idx('<bos>'))\n",
        "sample_result.extend([vocab.get_idx(token) for token in sample_caption.split(' ')])\n",
        "sample_result.append(vocab.get_idx('<eos>'))\n",
        "\n",
        "print('')\n",
        "print(sample_caption)\n",
        "print(sample_result)"
      ],
      "execution_count": null,
      "outputs": [
        {
          "output_type": "stream",
          "text": [
            "large piles of carrots and potatoes at a crowded outdoor market .\n",
            "[1, 21, 16, 14, 22, 15, 23, 18, 24, 25, 26, 9, 12, 2]\n",
            "\n",
            "people shop for vegetables like carrots and potatoes at an open air market .\n",
            "[1, 4, 27, 10, 11, 28, 22, 15, 23, 18, 7, 8, 19, 9, 12, 2]\n"
          ],
          "name": "stdout"
        }
      ]
    },
    {
      "cell_type": "code",
      "metadata": {
        "id": "kzb-wWuaol_E"
      },
      "source": [
        "class BatchIterator():\n",
        "    def __init__(self, img_codes, captions, vocab, batch_size=32, shuffle=True, device=torch.device('cpu')):\n",
        "        '''Инициализация иттератора батчей.\n",
        "           img_codes: Данные с векторами картинок.\n",
        "           captions: Данные с описаниями картинок.\n",
        "           vocab: Словарь слов и их коды\n",
        "           batch_size: Размер батча на выходе\n",
        "           shuffle: Флаг для перемешивания выборки\n",
        "           device: Использование cpu/gpu\n",
        "        '''\n",
        "        self.img_codes = img_codes\n",
        "        self.img_size = img_codes.shape[1]\n",
        "        self.captions = captions\n",
        "        self.num_samples = len(captions)\n",
        "        self.vocab = vocab\n",
        "        self.batch_size = batch_size\n",
        "        self.shuffle = shuffle\n",
        "        self.device = device\n",
        "\n",
        "    def __len__(self):\n",
        "        return self.batches_count\n",
        "\n",
        "    def max_length_caption(self, batch):\n",
        "        '''Подсчет максимальной длинны предложений в батче'''\n",
        "        max_lenght = 0\n",
        "        \n",
        "        for caption in batch:\n",
        "            if len(caption) > max_lenght:\n",
        "              max_lenght = len(caption)\n",
        "        \n",
        "        return max_lenght\n",
        "\n",
        "    def __iter__(self):\n",
        "        '''Функция позволяющая иттерироваться по батчам'''\n",
        "        indices = np.arange(self.num_samples) # TODO: Учетом нескольких описаний к одной картинке\n",
        "\n",
        "        if self.shuffle:\n",
        "            np.random.shuffle(indices)\n",
        "\n",
        "        for start in range(0, self.num_samples, self.batch_size):\n",
        "            end = min(start + self.batch_size, self.num_samples)\n",
        "            batch_indices = indices[start:end]\n",
        "\n",
        "            batch_image = []\n",
        "            batch_caption = []\n",
        "\n",
        "            for img_idx in batch_indices:\n",
        "                # Берем описания для img_idx-картинки\n",
        "                image_captions = self.captions[img_idx] \n",
        "                # Генерируем случайно число для выбора одного описания \n",
        "                capt_ind = np.random.randint(0, len(image_captions))\n",
        "                \n",
        "                # Добавляем к предложению спец. симв. и токенизируем его\n",
        "                caption = []\n",
        "                caption.append(self.vocab.get_idx(self.vocab.start_word))\n",
        "                caption.extend([self.vocab.get_idx(token) for token in image_captions[capt_ind].split(' ')])\n",
        "                caption.append(self.vocab.get_idx(self.vocab.end_word))\n",
        "\n",
        "                # Наполняем батчи\n",
        "                batch_image.append(self.img_codes[img_idx])\n",
        "                batch_caption.append(caption)\n",
        "\n",
        "            # Ищем максимальную длину предложения в батче\n",
        "            # и дополняем остальные <pad>-ми до этого размера \n",
        "            max_length = self.max_length_caption(batch_caption)\n",
        "            for i, caption in enumerate(batch_caption):\n",
        "                batch_caption[i] = caption + [self.vocab.get_idx(self.vocab.pad_word)] * (max_length - len(caption))\n",
        "\n",
        "            # Оборачиваем в тензоры\n",
        "            tensor_image = torch.zeros((self.batch_size, self.img_size), dtype=torch.float32, device=self.device) \n",
        "            tensor_caption = torch.zeros((self.batch_size, max_length), dtype=torch.int64, device=self.device)\n",
        "\n",
        "            for i, iamges in enumerate(batch_image):\n",
        "                tensor_image[i][:len(iamges)] = torch.FloatTensor(iamges)\n",
        "            \n",
        "            for i, captions in enumerate(batch_caption):\n",
        "                tensor_caption[i][:len(captions)] = torch.IntTensor(captions)\n",
        "\n",
        "            yield {\n",
        "                'images': tensor_image,\n",
        "                'captions': tensor_caption,\n",
        "            }"
      ],
      "execution_count": null,
      "outputs": []
    },
    {
      "cell_type": "code",
      "metadata": {
        "id": "jmDpmSbNomCG",
        "colab": {
          "base_uri": "https://localhost:8080/"
        },
        "outputId": "41b0349c-5a87-4245-b417-ac5da8b13120"
      },
      "source": [
        "#Пример работы батч - итератора \n",
        "train_iterator = BatchIterator(img_codes, captions, vocab, 4)\n",
        "\n",
        "for batch in train_iterator:\n",
        "    print('Image vector:', batch['images'].shape)\n",
        "    print(batch['images'][:, :-1], '\\n')\n",
        "    print(batch['images'][:, :], '\\n')\n",
        "    print('Caption vector:', batch['captions'].shape)\n",
        "    print(batch['captions'][:, :], '\\n')\n",
        "    print(batch['captions'][:, :-1], '\\n')\n",
        "    print('Caption text:', [vocab.get_word(idx.item()) for idx in batch['captions'][0]])\n",
        "    break"
      ],
      "execution_count": null,
      "outputs": [
        {
          "output_type": "stream",
          "text": [
            "Image vector: torch.Size([4, 2048])\n",
            "tensor([[0.1093, 0.9802, 0.3289,  ..., 0.0626, 0.0157, 0.5124],\n",
            "        [0.0482, 0.2900, 1.3037,  ..., 0.3460, 0.1231, 0.8716],\n",
            "        [0.3246, 0.1274, 0.1838,  ..., 0.0000, 0.0000, 0.5943],\n",
            "        [0.0805, 0.2524, 0.0591,  ..., 0.0662, 0.4299, 0.4530]]) \n",
            "\n",
            "tensor([[0.1093, 0.9802, 0.3289,  ..., 0.0157, 0.5124, 0.0360],\n",
            "        [0.0482, 0.2900, 1.3037,  ..., 0.1231, 0.8716, 0.0924],\n",
            "        [0.3246, 0.1274, 0.1838,  ..., 0.0000, 0.5943, 0.3551],\n",
            "        [0.0805, 0.2524, 0.0591,  ..., 0.4299, 0.4530, 0.0487]]) \n",
            "\n",
            "Caption vector: torch.Size([4, 15])\n",
            "tensor([[   1,   24,  304,   58,   24,  133,   14,   24,  203,   50,   59,  304,\n",
            "           12,    2,    3],\n",
            "        [   1,   24,  155,  154,   58,   24,  962,   15,   24, 1570,   12,    2,\n",
            "            3,    3,    3],\n",
            "        [   1,   24, 2304,   35,   45,  331,   14,   45,  103, 2302, 1371,   12,\n",
            "            2,    3,    3],\n",
            "        [   1,   24,   21,  404,    0,  718,  889,  183,   45,  331,   14,   24,\n",
            "          268,   12,    2]]) \n",
            "\n",
            "tensor([[   1,   24,  304,   58,   24,  133,   14,   24,  203,   50,   59,  304,\n",
            "           12,    2],\n",
            "        [   1,   24,  155,  154,   58,   24,  962,   15,   24, 1570,   12,    2,\n",
            "            3,    3],\n",
            "        [   1,   24, 2304,   35,   45,  331,   14,   45,  103, 2302, 1371,   12,\n",
            "            2,    3],\n",
            "        [   1,   24,   21,  404,    0,  718,  889,  183,   45,  331,   14,   24,\n",
            "          268,   12]]) \n",
            "\n",
            "Caption text: ['<bos>', 'a', 'bridge', 'with', 'a', 'view', 'of', 'a', 'river', 'near', 'another', 'bridge', '.', '<eos>', '<pad>']\n"
          ],
          "name": "stdout"
        }
      ]
    },
    {
      "cell_type": "code",
      "metadata": {
        "id": "UyaVM-l6omEO",
        "colab": {
          "base_uri": "https://localhost:8080/"
        },
        "outputId": "e52205c4-77c6-4ccf-bb2b-abc1c6e545f3"
      },
      "source": [
        "#Разбиваем выборку на train, test, valid (60/30/10) и добавляем для них иттериуемые переменные.\n",
        "\n",
        "def train_test_split(images, captions, train_size=0.9, valid_size=0.1, shuffle=True):\n",
        "    train_shape = int(np.floor(images.shape[0] * train_size))\n",
        "    valid_shape = int(np.floor(images.shape[0] * valid_size))\n",
        "\n",
        "    if images.shape[0] != sum([train_shape, valid_shape]):\n",
        "        last = images.shape[0] - sum([train_shape, valid_shape])\n",
        "        train_shape += last\n",
        "\n",
        "    print('All data shape', images.shape[0])\n",
        "    print('-------------------------------')\n",
        "    print('Train shape -', train_shape)\n",
        "    print('Valid shape -', valid_shape)\n",
        "\n",
        "    train_indices = np.arange(train_shape)\n",
        "    valid_indices = np.arange(valid_shape)\n",
        "\n",
        "    if shuffle:\n",
        "        np.random.shuffle(train_indices) \n",
        "        np.random.shuffle(valid_indices)\n",
        "\n",
        "    images_train = np.array(images)[train_indices]\n",
        "    captions_train = np.array(captions)[train_indices]\n",
        "\n",
        "    images_val = np.array(images)[valid_indices]\n",
        "    captions_val = np.array(captions)[valid_indices]\n",
        "\n",
        "    return images_train, captions_train, images_val, captions_val, train_shape, valid_shape\n",
        "\n",
        "img_train, capt_train, img_val, capt_val, train_size, valid_size = train_test_split(img_codes, captions)"
      ],
      "execution_count": null,
      "outputs": [
        {
          "output_type": "stream",
          "text": [
            "All data shape 118287\n",
            "-------------------------------\n",
            "Train shape - 106459\n",
            "Valid shape - 11828\n"
          ],
          "name": "stdout"
        }
      ]
    },
    {
      "cell_type": "code",
      "metadata": {
        "id": "sSnC6Ss1omHO",
        "colab": {
          "base_uri": "https://localhost:8080/"
        },
        "outputId": "f2c87069-7cb9-4434-f268-e552b796b587"
      },
      "source": [
        "print(img_train[0])\n",
        "print(capt_train[0])"
      ],
      "execution_count": null,
      "outputs": [
        {
          "output_type": "stream",
          "text": [
            "[0.13668247 0.40989295 0.18436697 ... 0.2333352  0.6180824  0.28760207]\n",
            "['a large group of giraffes walk throught he zoo'\n",
            " 'four giraffes standing around in a zoo pen .'\n",
            " 'a couple of giraffes are standing in a pin'\n",
            " 'giraffes walking in their enclosure on a sunny day .'\n",
            " 'giraffes walk towards the back of a pen']\n"
          ],
          "name": "stdout"
        }
      ]
    },
    {
      "cell_type": "code",
      "metadata": {
        "id": "mfbmzOEaomJT",
        "colab": {
          "base_uri": "https://localhost:8080/"
        },
        "outputId": "1dbde875-28b5-409b-fa70-6c8bc908042f"
      },
      "source": [
        "print(img_val[0])\n",
        "print(capt_val[0])"
      ],
      "execution_count": null,
      "outputs": [
        {
          "output_type": "stream",
          "text": [
            "[0.5226549  0.07928751 0.8143755  ... 0.         0.9434766  0.43864805]\n",
            "['a living room and kitchen with various furniture .'\n",
            " 'the woman is working in the kitchen with the baby in the high chair next to her .'\n",
            " 'a view of living room with brown sofas , with the kitchen in the background .'\n",
            " 'a living room with a couch a chair and a tv'\n",
            " 'a woman works in a kitchen that is joined to a living room .']\n"
          ],
          "name": "stdout"
        }
      ]
    },
    {
      "cell_type": "code",
      "metadata": {
        "id": "vz16qFQkomLZ"
      },
      "source": [
        "class CaptionDecoderRNN(nn.Module):\n",
        "    def __init__(self, embed_size, hidden_size, vocab_size, cnn_feature_size = 2048, num_layers = 2):\n",
        "        super(self.__class__, self).__init__()\n",
        "        # стандартная архитектура такой сети такая: \n",
        "        # 1. линейные слои для преобразования эмбеддиинга картинки в начальные состояния h0 и c0 LSTM-ки\n",
        "        # 2. слой эмбедднга\n",
        "        # 3. несколько LSTM слоев (для начала не берите больше двух, чтобы долго не ждать)\n",
        "        # 4. линейный слой для получения логитов\n",
        "        self.num_layers = num_layers\n",
        "\n",
        "        self.img_to_h0 = nn.Linear(cnn_feature_size, hidden_size)\n",
        "        self.img_to_h0 = nn.Linear(cnn_feature_size, hidden_size)\n",
        "        self.tanh = nn.Tanh()\n",
        "        # self.dropout = nn.Dropout(p=0.2)\n",
        "\n",
        "        self.emb = nn.Embedding(vocab_size, embed_size)\n",
        "        self.lstm = nn.LSTM(embed_size, hidden_size, num_layers, batch_first=True)\n",
        "        \n",
        "        self.logits = nn.Linear(hidden_size, vocab_size)\n",
        "        \n",
        "\n",
        "    def forward(self, image_vectors, captions):\n",
        "        \"\"\" \n",
        "        Apply the network in training mode. \n",
        "        :param image_vectors: torch tensor, содержащий выходы inseption.\n",
        "               shape: [batch_size, cnn_feature_size]\n",
        "        \n",
        "        :param captions_idx: таргет описания картинок в виде матрицы\n",
        "               shape: [batch_size, word_i]\n",
        "        \n",
        "        :returns: outputs: логиты для сгенерированного текста описания\n",
        "                  shape: [batch_size, word_i, p_vocab_i]\n",
        "        \"\"\"\n",
        "        # 1. инициализируем LSTM state\n",
        "        # [batch_size, hidden_size]\n",
        "        h0 = self.tanh(self.img_to_h0(image_vectors))\n",
        "        c0 = self.tanh(self.img_to_h0(image_vectors))\n",
        "        \n",
        "        # make [num_layer, batch_size, hidden_size]\n",
        "        h0 = h0.expand(self.num_layers, h0.size(0), h0.size(1)).contiguous()\n",
        "        c0 = c0.expand(self.num_layers, c0.size(0), c0.size(1)).contiguous()\n",
        "\n",
        "        # 2. применим слой эмбеддингов к captions\n",
        "        # [batch_size, max_len, emb_size]\n",
        "        captions_emb = self.emb(captions)\n",
        "        \n",
        "        # 3. скормим LSTM captions_emb и добавим скрытые веса картинки \n",
        "        # [batch_size, max_len, hidden_size]\n",
        "        hiddens, _ = self.lstm(captions_emb, (h0, c0))\n",
        "\n",
        "        # 4. посчитаем логиты из выхода LSTM\n",
        "        # [batch_size, max_len, vocab_size]\n",
        "        logits = self.logits(hiddens)\n",
        "\n",
        "        return logits"
      ],
      "execution_count": null,
      "outputs": []
    },
    {
      "cell_type": "code",
      "metadata": {
        "id": "xRAFm359boXq"
      },
      "source": [
        "def train_model(model, train_iterator, valid_iterator, vocablurary,\n",
        "                batch_size=32, n_batches_per_epoch=32, n_validation_batches=5,\n",
        "                n_epochs=1, device='cpu'):\n",
        "    \n",
        "    params_count = sum(p.numel() for p in model.parameters() if p.requires_grad)\n",
        "    print('Trainable params: {}'.format(params_count))\n",
        "    print('-----------------------------------------')\n",
        "    \n",
        "    model = model.to(device)\n",
        "    criterion = nn.CrossEntropyLoss(ignore_index=vocab.get_idx('<pad>')).to(device)\n",
        "    optimizer = torch.optim.Adam(model.parameters(), lr = 0.001, eps = 1e-8)\n",
        "\n",
        "    best_val_loss = 1000\n",
        "    avg_train_loss = []\n",
        "    avg_val_loss = []\n",
        "    start_time = time.time()\n",
        "\n",
        "    for epoch in range(n_epochs):\n",
        "      # Training part\n",
        "      train_loss = 0\n",
        "      model.train(True)\n",
        "      for i, batch in enumerate(train_iterator):\n",
        "        images = batch['images'].to(device)\n",
        "        captions_ix_inp = batch['captions'][:, :-1].contiguous().to(device)\n",
        "        captions_ix_next = batch['captions'][:, 1:].contiguous().to(device)\n",
        "\n",
        "        optimizer.zero_grad()\n",
        "        logits = model(images, captions_ix_inp)\n",
        "        \n",
        "        loss = criterion(logits.view(-1, logits.shape[2]), captions_ix_next.view(-1))\n",
        "\n",
        "        loss.backward()\n",
        "        optimizer.step()\n",
        "\n",
        "        train_loss += loss.item()\n",
        "\n",
        "      train_loss /= n_batches_per_epoch\n",
        "      avg_train_loss.append(train_loss)\n",
        "\n",
        "      # Validation part\n",
        "      val_loss = 0\n",
        "      bleu = []\n",
        "      sample_per_batch = True\n",
        "      model.train(False)\n",
        "      for _, batch in enumerate(valid_iterator):\n",
        "        images = batch['images'].to(device)\n",
        "        captions_ix_inp = batch['captions'][:, :-1].contiguous().to(device)\n",
        "        captions_ix_next = batch['captions'][:, 1:].contiguous().to(device)\n",
        "\n",
        "        logits = model(images, captions_ix_inp)\n",
        "        loss = criterion(logits.view(-1, logits.shape[2]), captions_ix_next.view(-1))\n",
        "\n",
        "        val_loss += loss.item()\n",
        "\n",
        "        # На каждой эпохе смотрим как модель генерирует описание для изображения\n",
        "        # на валидационной части\n",
        "        if sample_per_batch:\n",
        "            sample_per_batch = False\n",
        "            sample_image = batch['images'][0].unsqueeze(0).to(device)\n",
        "            sample_caption = batch['captions'][0].unsqueeze(0).to(device)\n",
        "\n",
        "            original_sentence = [vocab.get_word(idx.item()) for idx in sample_caption[0][1:]]\n",
        "\n",
        "            original_sentence = original_sentence[: original_sentence.index('<eos>')]\n",
        "            print('Original:', original_sentence)\n",
        "\n",
        "            logits = model(sample_image, sample_caption)\n",
        "            scores = F.softmax(logits.cpu(), -1).data.numpy()[0]\n",
        "            scores = scores ** 5 / np.sum(scores ** 5)\n",
        "            #scores = scores / np.sum(scores)\n",
        "            generated_sentence = [vocab.get_word(score) for score in np.argmax(scores, -1)]\n",
        "\n",
        "            generated_sentence = generated_sentence[: generated_sentence.index('<eos>')]\n",
        "            print('Generated:', generated_sentence)\n",
        "\n",
        "            bleu.append(nltk.translate.bleu_score.sentence_bleu(original_sentence, generated_sentence))\n",
        "      \n",
        "      val_loss /= n_validation_batches\n",
        "      avg_val_loss.append(val_loss)\n",
        "\n",
        "      # Сохранение лучшей модели по лоссу на валидации \n",
        "      if val_loss < best_val_loss:\n",
        "          best_val_loss = val_loss\n",
        "          torch.save(model.state_dict(), 'best_model_base.ckpt')\n",
        "      \n",
        "      print(\"\\nEpoch = {}, Avg Train Loss = {:.4f}, Avg Val Loss = {:.4f}, BLEU = {:.4f}, Best Val Loss = {:.4f}, Time = {:.2f}s\\n\" \\\n",
        "            .format(epoch+1, np.mean(avg_train_loss), np.mean(avg_val_loss), bleu[-1], \n",
        "                    best_val_loss, time.time() - start_time))\n",
        "      start_time = time.time()"
      ],
      "execution_count": null,
      "outputs": []
    },
    {
      "cell_type": "code",
      "metadata": {
        "id": "Ba5kEPDLSzvL"
      },
      "source": [
        "def train_model(model, train_iterator, valid_iterator, vocablurary,\n",
        "                batch_size=32, n_batches_per_epoch=32, n_validation_batches=5,\n",
        "                n_epochs=1, device='cpu'):\n",
        "    \n",
        "    params_count = sum(p.numel() for p in model.parameters() if p.requires_grad)\n",
        "    print('Trainable params: {}'.format(params_count))\n",
        "    print('-----------------------------------------')\n",
        "    \n",
        "    model = model.to(device)\n",
        "    criterion = nn.CrossEntropyLoss(ignore_index=vocab.get_idx('<pad>')).to(device)\n",
        "    optimizer = torch.optim.Adam(model.parameters(), lr = 0.001, eps = 1e-8)\n",
        "\n",
        "    best_val_loss = 1000\n",
        "    avg_train_loss = []\n",
        "    avg_val_loss = []\n",
        "\n",
        "    bleu = []\n",
        "    bleu_average = []\n",
        "    bleu_best = 0\n",
        "    start_time = time.time()\n",
        "\n",
        "    for epoch in range(n_epochs):\n",
        "      # Training part\n",
        "      train_loss = 0\n",
        "      model.train(True)\n",
        "      for i, batch in enumerate(train_iterator):\n",
        "        images = batch['images'].to(device)\n",
        "        captions_ix_inp = batch['captions'][:, :-1].contiguous().to(device)\n",
        "        captions_ix_next = batch['captions'][:, 1:].contiguous().to(device)\n",
        "\n",
        "        optimizer.zero_grad()\n",
        "        logits = model(images, captions_ix_inp)\n",
        "        \n",
        "        loss = criterion(logits.view(-1, logits.shape[2]), captions_ix_next.view(-1))\n",
        "\n",
        "        loss.backward()\n",
        "        optimizer.step()\n",
        "\n",
        "        train_loss += loss.item()\n",
        "\n",
        "      train_loss /= n_batches_per_epoch\n",
        "      avg_train_loss.append(train_loss)\n",
        "\n",
        "      # Validation part\n",
        "      val_loss = 0\n",
        "      temp = []\n",
        "\n",
        "      model.train(False)\n",
        "      for _, batch in enumerate(valid_iterator):\n",
        "        images = batch['images'].to(device)\n",
        "        captions_ix_inp = batch['captions'][:, :-1].contiguous().to(device)\n",
        "        captions_ix_next = batch['captions'][:, 1:].contiguous().to(device)\n",
        "\n",
        "        logits = model(images, captions_ix_inp)\n",
        "        loss = criterion(logits.view(-1, logits.shape[2]), captions_ix_next.view(-1))\n",
        "\n",
        "        val_loss += loss.item()\n",
        "\n",
        "\n",
        "        sample_image = batch['images'][0].unsqueeze(0).to(device)\n",
        "        sample_caption = batch['captions'][0].unsqueeze(0).to(device)\n",
        "        original_sentence = [vocab.get_word(idx.item()) for idx in sample_caption[0][1:]]\n",
        "\n",
        "        logits = model(sample_image, sample_caption)\n",
        "        scores = F.softmax(logits.cpu(), -1).data.numpy()[0]\n",
        "        scores = scores ** 5 / np.sum(scores ** 5)\n",
        "        generated_sentence = [vocab.get_word(score) for score in np.argmax(scores, -1)]\n",
        "\n",
        "        if '<eos>' in generated_sentence:\n",
        "          generated_sentence = generated_sentence[: generated_sentence.index('<eos>')]\n",
        "\n",
        "        temp.append(nltk.translate.bleu_score.sentence_bleu(original_sentence, generated_sentence))\n",
        "        bleu.append(nltk.translate.bleu_score.sentence_bleu(original_sentence, generated_sentence))\n",
        "\n",
        "      bleu_average.append(np.array(temp).mean())\n",
        "\n",
        "      val_loss /= n_validation_batches\n",
        "      avg_val_loss.append(val_loss)\n",
        "\n",
        "      # Сохранение лучшей модели по лоссу на валидации \n",
        "      '''if val_loss < best_val_loss:\n",
        "          best_val_loss = val_loss\n",
        "          torch.save(model.state_dict(), 'best_model_base.ckpt')'''\n",
        "      if bleu_best < bleu_average[-1]:\n",
        "          best_val_loss = val_loss\n",
        "          bleu_best = bleu_average[-1]\n",
        "          torch.save(model.state_dict(), 'best_model_base.ckpt')\n",
        "      \n",
        "      print(\"\\nEpoch = {}, Avg Train Loss = {:.4f}, Avg Val Loss = {:.4f}, bleu_average = {:.4f}, Best Val Loss = {:.4f}, Time = {:.2f}s\\n\" \\\n",
        "            .format(epoch+1, np.mean(avg_train_loss), np.mean(avg_val_loss), bleu_average[-1], \n",
        "                    best_val_loss, time.time() - start_time))\n",
        "      start_time = time.time()\n",
        "    return bleu, bleu_average, avg_train_loss, avg_val_loss"
      ],
      "execution_count": null,
      "outputs": []
    },
    {
      "cell_type": "code",
      "metadata": {
        "id": "DzvmgqXEbvWh"
      },
      "source": [
        "device = torch.device('cuda' if torch.cuda.is_available() else 'cpu')\n",
        "\n",
        "n_epochs = 25\n",
        "batch_size = 50\n",
        "n_batches_per_epoch = np.floor(train_size / batch_size)\n",
        "batch_valid_size = 25\n",
        "n_validation_batches = np.floor(valid_size / batch_valid_size)\n",
        "lstm_num_layers = 4\n",
        "\n",
        "train_iterator = BatchIterator(img_train, capt_train, vocab, batch_size)\n",
        "valid_iterator = BatchIterator(img_val, capt_val, vocab, batch_size)\n",
        "\n",
        "model = CaptionDecoderRNN(embed_size=300,\n",
        "                          hidden_size=512,\n",
        "                          vocab_size=len(vocab),\n",
        "                          cnn_feature_size=img_codes.shape[1],\n",
        "                          num_layers=lstm_num_layers)\n",
        "\n",
        "bleu, bleu_average, avg_train_loss, avg_val_loss = train_model(model, train_iterator, valid_iterator, vocab, batch_size,\n",
        "            n_batches_per_epoch, n_validation_batches, n_epochs, device)"
      ],
      "execution_count": null,
      "outputs": []
    },
    {
      "cell_type": "code",
      "metadata": {
        "colab": {
          "base_uri": "https://localhost:8080/",
          "height": 296
        },
        "id": "UxVjXmmSreIi",
        "outputId": "6d733142-cfa8-400c-fda9-9294284d9bed"
      },
      "source": [
        "import matplotlib.pyplot as plt\n",
        "plt.plot(avg_train_loss, label = 'avg_train_loss')\n",
        "plt.plot(test, label = 'avg_val_loss')\n",
        "plt.legend(loc=\"upper left\")\n",
        "plt.xlabel('epoch')\n",
        "plt.ylabel('loss')"
      ],
      "execution_count": null,
      "outputs": [
        {
          "output_type": "execute_result",
          "data": {
            "text/plain": [
              "Text(0, 0.5, 'loss')"
            ]
          },
          "metadata": {
            "tags": []
          },
          "execution_count": 90
        },
        {
          "output_type": "display_data",
          "data": {
            "image/png": "[encoded data removed]",
            "text/plain": [
              "<Figure size 432x288 with 1 Axes>"
            ]
          },
          "metadata": {
            "tags": [],
            "needs_background": "light"
          }
        }
      ]
    },
    {
      "cell_type": "code",
      "metadata": {
        "colab": {
          "base_uri": "https://localhost:8080/",
          "height": 296
        },
        "id": "NNCajRNDGnDl",
        "outputId": "48191d1a-4278-4a7e-bc83-69fdf95b9e56"
      },
      "source": [
        "plt.plot(bl, label = 'BLEU', color  ='g')\n",
        "plt.legend(loc=\"upper left\")\n",
        "plt.xlabel('epoch')\n",
        "plt.ylabel('score')"
      ],
      "execution_count": null,
      "outputs": [
        {
          "output_type": "execute_result",
          "data": {
            "text/plain": [
              "Text(0, 0.5, 'score')"
            ]
          },
          "metadata": {
            "tags": []
          },
          "execution_count": 115
        },
        {
          "output_type": "display_data",
          "data": {
            "image/png": "[encoded data removed]",
            "text/plain": [
              "<Figure size 432x288 with 1 Axes>"
            ]
          },
          "metadata": {
            "tags": [],
            "needs_background": "light"
          }
        }
      ]
    },
    {
      "cell_type": "code",
      "metadata": {
        "colab": {
          "base_uri": "https://localhost:8080/"
        },
        "id": "oICgu0x2OZH8",
        "outputId": "89c1bb89-ebeb-45d0-cf43-231939b6d0d2"
      },
      "source": [
        "!wget https://raw.githubusercontent.com/yandexdataschool/Practical_DL/master/homework04/beheaded_inception3.py"
      ],
      "execution_count": null,
      "outputs": [
        {
          "output_type": "stream",
          "text": [
            "--2021-05-16 17:07:14--  https://raw.githubusercontent.com/yandexdataschool/Practical_DL/master/homework04/beheaded_inception3.py\n",
            "Resolving raw.githubusercontent.com (raw.githubusercontent.com)... 185.199.109.133, 185.199.110.133, 185.199.111.133, ...\n",
            "Connecting to raw.githubusercontent.com (raw.githubusercontent.com)|185.199.109.133|:443... connected.\n",
            "HTTP request sent, awaiting response... 200 OK\n",
            "Length: 1811 (1.8K) [text/plain]\n",
            "Saving to: ‘beheaded_inception3.py’\n",
            "\n",
            "\rbeheaded_inception3   0%[                    ]       0  --.-KB/s               \rbeheaded_inception3 100%[===================>]   1.77K  --.-KB/s    in 0s      \n",
            "\n",
            "2021-05-16 17:07:14 (22.8 MB/s) - ‘beheaded_inception3.py’ saved [1811/1811]\n",
            "\n"
          ],
          "name": "stdout"
        }
      ]
    },
    {
      "cell_type": "code",
      "metadata": {
        "colab": {
          "base_uri": "https://localhost:8080/",
          "height": 138,
          "referenced_widgets": [
            "7adf08ba3f384452910ec0cb932bc6ad",
            "8e36ef3722b94224857ed2910e2b7a8c",
            "4316f9855855460994a79bf72def5351",
            "750463ddb0774ba7af836e61b361356e",
            "0fee0a6448fc40d6b0b4d8d2901155fd",
            "9f1deb7d59604f4ea2b1843e708f8b62",
            "71e5b897d11f430d9902ed4ee1b26988",
            "09773f5a546a4379a8eacb6d88b071d9"
          ]
        },
        "id": "guaDFowD_GCQ",
        "outputId": "b23f3d8e-1b95-4953-abe1-da9aeca0f7bd"
      },
      "source": [
        "# загружаем inseption, чтобы можно было прогонять через него новые картинки, \n",
        "# получать их эмбеддинги и генерировать описания с помощью нашей сети\n",
        "from beheaded_inception3 import beheaded_inception_v3\n",
        "inception = beheaded_inception_v3().train(False)"
      ],
      "execution_count": null,
      "outputs": [
        {
          "output_type": "stream",
          "text": [
            "/usr/local/lib/python3.7/dist-packages/torchvision/models/inception.py:82: FutureWarning: The default weight initialization of inception_v3 will be changed in future releases of torchvision. If you wish to keep the old behavior (which leads to long initialization times due to scipy/scipy#11299), please set init_weights=True.\n",
            "  ' due to scipy/scipy#11299), please set init_weights=True.', FutureWarning)\n",
            "Downloading: \"https://download.pytorch.org/models/inception_v3_google-1a9a5a14.pth\" to /root/.cache/torch/hub/checkpoints/inception_v3_google-1a9a5a14.pth\n"
          ],
          "name": "stderr"
        },
        {
          "output_type": "display_data",
          "data": {
            "application/vnd.jupyter.widget-view+json": {
              "model_id": "7adf08ba3f384452910ec0cb932bc6ad",
              "version_minor": 0,
              "version_major": 2
            },
            "text/plain": [
              "HBox(children=(FloatProgress(value=0.0, max=108857766.0), HTML(value='')))"
            ]
          },
          "metadata": {
            "tags": []
          }
        },
        {
          "output_type": "stream",
          "text": [
            "\n"
          ],
          "name": "stdout"
        }
      ]
    },
    {
      "cell_type": "code",
      "metadata": {
        "id": "_OpDumi2_GwO"
      },
      "source": [
        "def generate_caption(image, t=5, max_len=100, device='cpu'):\n",
        "    image = torch.tensor(image.transpose([2, 0, 1]), dtype=torch.float32)\n",
        "\n",
        "    vectors_8x8, vectors_neck, logits = inception(image[None])    \n",
        "    captions_prefix = ['<bos>']\n",
        "\n",
        "    for _ in range(max_len):\n",
        "        # Получаем коды слов из словаря\n",
        "        captions_ix = [vocab.get_idx(word) for word in captions_prefix]\n",
        "        # Оборачиваем в торч тензор\n",
        "        captions_ix = torch.tensor(captions_ix, dtype=torch.int64, device=device)\n",
        "\n",
        "        # Получаем логиты следующего слова\n",
        "        model = CaptionDecoderRNN(embed_size=300,\n",
        "                          hidden_size=512,\n",
        "                          vocab_size=len(vocab),\n",
        "                          cnn_feature_size=img_codes.shape[1],\n",
        "                          num_layers = 4)\n",
        "\n",
        "        model.load_state_dict(torch.load('best_model_base.ckpt'))\n",
        "        model.eval()\n",
        "\n",
        "        next_word_logits = model.forward(vectors_neck.to(device), captions_ix.unsqueeze(0))[0, -1]\n",
        "        # Преобразуем их в вероятности\n",
        "        next_word_probs = F.softmax(next_word_logits.cpu(), -1).data.numpy()\n",
        "\n",
        "        assert len(next_word_probs.shape) == 1\n",
        "        \n",
        "        next_word_probs = next_word_probs ** t / np.sum(next_word_probs ** t)\n",
        "        \n",
        "        # Получаем слово в исходном виде\n",
        "        next_word = vocab.get_word(np.argmax(next_word_probs).item())\n",
        "        \n",
        "        # Добавляем его к предложению\n",
        "        captions_prefix.append(next_word)\n",
        "\n",
        "        # Если сгенерировалось конец предложения, то останавливаем процесс\n",
        "        if next_word == '<eos>':\n",
        "            break\n",
        "    \n",
        "    return captions_prefix"
      ],
      "execution_count": null,
      "outputs": []
    },
    {
      "cell_type": "code",
      "metadata": {
        "id": "WJw09aygMy1J"
      },
      "source": [
        "import os\n",
        "import pickle\n",
        "from collections import Counter\n",
        "import torch, torch.nn as nn\n",
        "import torch.nn.functional as F\n",
        "from torch.nn.utils.rnn import pack_padded_sequence\n",
        "import time\n",
        "\n",
        "import numpy as np\n",
        "device = torch.device('cpu')"
      ],
      "execution_count": null,
      "outputs": []
    },
    {
      "cell_type": "code",
      "metadata": {
        "colab": {
          "base_uri": "https://localhost:8080/",
          "height": 568
        },
        "id": "_0vWDy2A_QCi",
        "outputId": "6feb96ca-49b9-4207-f3ff-3b72ad01cb31"
      },
      "source": [
        "from matplotlib import pyplot as plt\n",
        "from PIL import Image\n",
        "\n",
        "%matplotlib inline\n",
        "\n",
        "#sample image\n",
        "!wget https://pixel.nymag.com/imgs/daily/selectall/2018/02/12/12-tony-hawk.w710.h473.jpg -O img.jpg\n",
        "img = plt.imread('img.jpg')\n",
        "img = np.array(Image.fromarray(img).resize((299,299)))/255\n",
        "\n",
        "plt.imshow(img)\n",
        "for i in range(1):\n",
        "    print(' '.join(generate_caption(img, t=5, device = device)[1:-1]))"
      ],
      "execution_count": null,
      "outputs": [
        {
          "output_type": "stream",
          "text": [
            "--2021-05-05 16:51:12--  https://pixel.nymag.com/imgs/daily/selectall/2018/02/12/12-tony-hawk.w710.h473.jpg\n",
            "Resolving pixel.nymag.com (pixel.nymag.com)... 199.232.192.70, 199.232.196.70\n",
            "Connecting to pixel.nymag.com (pixel.nymag.com)|199.232.192.70|:443... connected.\n",
            "HTTP request sent, awaiting response... 301 Moved Permanently\n",
            "Location: https://pyxis.nymag.com/v1/imgs/6ac/2a6/b48d3a180f333298f5bee60ff80f4ba886-12-tony-hawk.h473.w710.jpg [following]\n",
            "--2021-05-05 16:51:13--  https://pyxis.nymag.com/v1/imgs/6ac/2a6/b48d3a180f333298f5bee60ff80f4ba886-12-tony-hawk.h473.w710.jpg\n",
            "Resolving pyxis.nymag.com (pyxis.nymag.com)... 151.101.2.217, 151.101.66.217, 151.101.130.217, ...\n",
            "Connecting to pyxis.nymag.com (pyxis.nymag.com)|151.101.2.217|:443... connected.\n",
            "HTTP request sent, awaiting response... 200 OK\n",
            "Length: 54731 (53K) [image/jpeg]\n",
            "Saving to: ‘img.jpg’\n",
            "\n",
            "img.jpg             100%[===================>]  53.45K  --.-KB/s    in 0.01s   \n",
            "\n",
            "2021-05-05 16:51:13 (4.15 MB/s) - ‘img.jpg’ saved [54731/54731]\n",
            "\n",
            "a man riding a skateboard on top of a ramp .\n"
          ],
          "name": "stdout"
        },
        {
          "output_type": "display_data",
          "data": {
            "image/png": "[encoded data removed]",
            "text/plain": [
              "<Figure size 432x288 with 1 Axes>"
            ]
          },
          "metadata": {
            "tags": [],
            "needs_background": "light"
          }
        }
      ]
    },
    {
      "cell_type": "code",
      "metadata": {
        "colab": {
          "base_uri": "https://localhost:8080/"
        },
        "id": "5Crr6tQyhcFO",
        "outputId": "0a01dbe7-30d5-4456-98ad-e45b954151c3"
      },
      "source": [
        "!pip install python-telegram-bot"
      ],
      "execution_count": null,
      "outputs": [
        {
          "output_type": "stream",
          "text": [
            "Collecting python-telegram-bot\n",
            "\u001b[?25l  Downloading https://files.pythonhosted.org/packages/e4/44/1726f407387a7332a08b4e95211380b3bda185cedbe73d1058010136e695/python_telegram_bot-13.5-py3-none-any.whl (455kB)\n",
            "\u001b[K     |████████████████████████████████| 460kB 4.3MB/s \n",
            "\u001b[?25hCollecting APScheduler==3.6.3\n",
            "\u001b[?25l  Downloading https://files.pythonhosted.org/packages/f3/34/9ef20ed473c4fd2c3df54ef77a27ae3fc7500b16b192add4720cab8b2c09/APScheduler-3.6.3-py2.py3-none-any.whl (58kB)\n",
            "\u001b[K     |████████████████████████████████| 61kB 5.4MB/s \n",
            "\u001b[?25hRequirement already satisfied: certifi in /usr/local/lib/python3.7/dist-packages (from python-telegram-bot) (2020.12.5)\n",
            "Requirement already satisfied: tornado>=5.1 in /usr/local/lib/python3.7/dist-packages (from python-telegram-bot) (5.1.1)\n",
            "Requirement already satisfied: pytz>=2018.6 in /usr/local/lib/python3.7/dist-packages (from python-telegram-bot) (2018.9)\n",
            "Requirement already satisfied: tzlocal>=1.2 in /usr/local/lib/python3.7/dist-packages (from APScheduler==3.6.3->python-telegram-bot) (1.5.1)\n",
            "Requirement already satisfied: setuptools>=0.7 in /usr/local/lib/python3.7/dist-packages (from APScheduler==3.6.3->python-telegram-bot) (56.0.0)\n",
            "Requirement already satisfied: six>=1.4.0 in /usr/local/lib/python3.7/dist-packages (from APScheduler==3.6.3->python-telegram-bot) (1.15.0)\n",
            "Installing collected packages: APScheduler, python-telegram-bot\n",
            "Successfully installed APScheduler-3.6.3 python-telegram-bot-13.5\n"
          ],
          "name": "stdout"
        }
      ]
    },
    {
      "cell_type": "code",
      "metadata": {
        "id": "EySvszItomNz",
        "colab": {
          "base_uri": "https://localhost:8080/"
        },
        "outputId": "a898a682-50e8-4ca7-9b63-86ae132ff64e"
      },
      "source": [
        "#Bot\n",
        "from PIL import Image\n",
        "from numpy import asarray \n",
        "import numpy as np\n",
        "from numpy import asarray \n",
        "\n",
        "import logging\n",
        "import telegram\n",
        "from telegram import ReplyKeyboardMarkup, ReplyKeyboardRemove, Update\n",
        "from telegram.ext import (\n",
        "    Updater,\n",
        "    CommandHandler,\n",
        "    MessageHandler,\n",
        "    Filters,\n",
        "    ConversationHandler,\n",
        "    CallbackContext,\n",
        ")\n",
        "\n",
        "logging.basicConfig(\n",
        "    format='%(asctime)s - %(name)s - %(levelname)s - %(message)s', level=logging.INFO\n",
        ")\n",
        "\n",
        "logger = logging.getLogger(__name__)\n",
        "Token = '1316758016:AAHPElD6DNK4TmLLJvwGPgYzhWfEu-noEpg'\n",
        "PHOTO, BIO = range(2)\n",
        "\n",
        "bot = telegram.Bot(token=Token) \n",
        "\n",
        "def start(update: Update, context: CallbackContext) -> int:\n",
        "\n",
        "\n",
        "    update.message.reply_text(\n",
        "        'ololo',\n",
        "    )\n",
        "\n",
        "    return PHOTO\n",
        "\n",
        "\n",
        "def photo(update: Update, context: CallbackContext) -> int:\n",
        "    user = update.message.from_user\n",
        "    photo_file = update.message.photo[-1].get_file()\n",
        "\n",
        "    print (\"file_id: \" + str(update.message.photo[-1].file_id))\n",
        "    photo_file.download('image.jpg')\n",
        "    img = plt.imread('/content/image.jpg')\n",
        "    img = np.array(Image.fromarray(img).resize((299,299)))/255\n",
        "\n",
        "    result = ' '.join(generate_caption(img, t = 5, device = device)[1:-1])\n",
        "\n",
        "\n",
        "    logger.info(\"Photo of %s: %s\", user.first_name, 'user_photo.jpg')\n",
        "\n",
        "\n",
        "    update.message.reply_text(\n",
        "        str(result)\n",
        "    )\n",
        "    return ConversationHandler.END\n",
        "\n",
        "\n",
        "\n",
        "def cancel(update: Update, context: CallbackContext) -> int:\n",
        "    user = update.message.from_user\n",
        "    logger.info(\"User %s canceled the conversation.\", user.first_name)\n",
        "    update.message.reply_text(\n",
        "        'Bye!.', reply_markup=ReplyKeyboardRemove()\n",
        "    )\n",
        "\n",
        "    return ConversationHandler.END\n",
        "\n",
        "\n",
        "def main() -> None:\n",
        "    updater = Updater(Token, use_context=True)\n",
        "\n",
        "    dispatcher = updater.dispatcher\n",
        "\n",
        "    conv_handler = ConversationHandler(\n",
        "        entry_points=[CommandHandler('start', start)],\n",
        "        states={\n",
        "            PHOTO: [MessageHandler(Filters.photo, photo)],\n",
        "        },\n",
        "        fallbacks=[CommandHandler('cancel', cancel)],\n",
        "    )\n",
        "\n",
        "    dispatcher.add_handler(conv_handler)\n",
        "\n",
        "    updater.start_polling()\n",
        "\n",
        "    updater.idle()\n",
        "\n",
        "if __name__ == '__main__':\n",
        "    main()"
      ],
      "execution_count": null,
      "outputs": [
        {
          "output_type": "stream",
          "text": [
            "2021-05-05 17:47:36,810 - apscheduler.scheduler - INFO - Scheduler started\n"
          ],
          "name": "stderr"
        },
        {
          "output_type": "stream",
          "text": [
            "file_id: AgACAgIAAxkBAAICOWCS2ksEFh4K1I1uwdH3ULTd9QlWAAKYuTEbGCOYSL4duKvgdy2kZGkRpC4AAwEAAwIAA3kAA-O1AAIfBA\n"
          ],
          "name": "stdout"
        },
        {
          "output_type": "stream",
          "text": [
            "2021-05-05 17:48:01,062 - __main__ - INFO - Photo of Semyon: user_photo.jpg\n"
          ],
          "name": "stderr"
        },
        {
          "output_type": "stream",
          "text": [
            "file_id: AgACAgIAAxkBAAICPWCS2qe8YWRnIROKPwHVVhi_3BurAAKuuTEbGCOYSAR1F_E3jq5yCL6Hoi4AAwEAAwIAA3kAA5rcAQABHwQ\n"
          ],
          "name": "stdout"
        },
        {
          "output_type": "stream",
          "text": [
            "2021-05-05 17:49:31,822 - __main__ - INFO - Photo of Semyon: user_photo.jpg\n"
          ],
          "name": "stderr"
        },
        {
          "output_type": "stream",
          "text": [
            "file_id: AgACAgIAAxkBAAICQWCS2tpOG2vAMD53sDlMl8OOy4w2AAKvuTEbGCOYSDEgJyfL-TGsYjsJni4AAwEAAwIAA3kAA6CqAwABHwQ\n"
          ],
          "name": "stdout"
        },
        {
          "output_type": "stream",
          "text": [
            "2021-05-05 17:50:23,016 - __main__ - INFO - Photo of Semyon: user_photo.jpg\n"
          ],
          "name": "stderr"
        },
        {
          "output_type": "stream",
          "text": [
            "file_id: AgACAgIAAxkBAAICRWCS2xPdVSZ1onVYbk5T-gRJeOeRAAKyuTEbGCOYSNUPbr56CA0DViUfpC4AAwEAAwIAA3kAA5CxAAIfBA\n"
          ],
          "name": "stdout"
        },
        {
          "output_type": "stream",
          "text": [
            "2021-05-05 17:51:20,216 - __main__ - INFO - Photo of Semyon: user_photo.jpg\n"
          ],
          "name": "stderr"
        },
        {
          "output_type": "stream",
          "text": [
            "file_id: AgACAgIAAxkBAAICSWCS271U3HfGkszeQQPPZ3S3_9DqAAKzuTEbGCOYSNJbXjw1WNCj7YeHnS4AAwEAAwIAA3kAA_HoAQABHwQ\n"
          ],
          "name": "stdout"
        },
        {
          "output_type": "stream",
          "text": [
            "2021-05-05 17:54:09,950 - __main__ - INFO - Photo of Semyon: user_photo.jpg\n"
          ],
          "name": "stderr"
        },
        {
          "output_type": "stream",
          "text": [
            "file_id: AgACAgIAAxkBAAICTmCS3AQqndw2Vf2meptrcpC6Q18mAAK_uTEbGCOYSDNGZZfzBOqHOgSPoS4AAwEAAwIAA3kAA0DlAQABHwQ\n"
          ],
          "name": "stdout"
        },
        {
          "output_type": "stream",
          "text": [
            "2021-05-05 17:55:20,707 - __main__ - INFO - Photo of Semyon: user_photo.jpg\n"
          ],
          "name": "stderr"
        },
        {
          "output_type": "stream",
          "text": [
            "file_id: AgACAgIAAxkBAAICUmCS436w4NN07wkQXY-1OdOYllDcAALluTEbGCOYSP1CCkR5OedBaVulmy4AAwEAAwIAA3kAA5mBAAIfBA\n"
          ],
          "name": "stdout"
        },
        {
          "output_type": "stream",
          "text": [
            "2021-05-05 18:27:15,429 - __main__ - INFO - Photo of Semyon: user_photo.jpg\n"
          ],
          "name": "stderr"
        },
        {
          "output_type": "stream",
          "text": [
            "file_id: AgACAgIAAxkBAAICV2CS5AM-HVDYwfg0HXJKa1uNIYcnAALouTEbGCOYSLSIWQ6rhORt76oNoi4AAwEAAwIAA3kAA5zdAQABHwQ\n"
          ],
          "name": "stdout"
        },
        {
          "output_type": "stream",
          "text": [
            "2021-05-05 18:29:27,881 - __main__ - INFO - Photo of Semyon: user_photo.jpg\n"
          ],
          "name": "stderr"
        },
        {
          "output_type": "stream",
          "text": [
            "file_id: AgACAgIAAxkBAAICXGCS5ET9UjI-omVhBC7qcHbptuXXAALpuTEbGCOYSH1dXjyvv-pDRZ-eoi4AAwEAAwIAA3kAAzLFAQABHwQ\n"
          ],
          "name": "stdout"
        },
        {
          "output_type": "stream",
          "text": [
            "2021-05-05 18:30:33,162 - __main__ - INFO - Photo of Semyon: user_photo.jpg\n"
          ],
          "name": "stderr"
        },
        {
          "output_type": "stream",
          "text": [
            "file_id: AgACAgIAAxkBAAICYGCS5JrxG4VHOKByw6UGOJv5unw7AALquTEbGCOYSEKtHLuykbrHDa8DpC4AAwEAAwIAA3kAAy2vAAIfBA\n"
          ],
          "name": "stdout"
        },
        {
          "output_type": "stream",
          "text": [
            "2021-05-05 18:31:59,198 - __main__ - INFO - Photo of Semyon: user_photo.jpg\n"
          ],
          "name": "stderr"
        },
        {
          "output_type": "stream",
          "text": [
            "file_id: AgACAgIAAxkBAAICZGCS5N8fwyU1VggM9jrUOHLjwQWrAALruTEbGCOYSEZHtFwtAprJSXWAoy4AAwEAAwIAA3kAA654AAIfBA\n"
          ],
          "name": "stdout"
        },
        {
          "output_type": "stream",
          "text": [
            "2021-05-05 18:33:08,589 - __main__ - INFO - Photo of Semyon: user_photo.jpg\n",
            "2021-05-05 19:06:04,422 - telegram.ext.updater - INFO - Received signal 2 (SIGINT), stopping...\n",
            "2021-05-05 19:06:04,428 - apscheduler.scheduler - INFO - Scheduler has been shut down\n"
          ],
          "name": "stderr"
        }
      ]
    },
    {
      "cell_type": "code",
      "metadata": {
        "id": "y5LlP3lBdIdk"
      },
      "source": [
        ""
      ],
      "execution_count": null,
      "outputs": []
    }
  ]
}